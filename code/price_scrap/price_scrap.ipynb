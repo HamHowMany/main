{
 "cells": [
  {
   "cell_type": "code",
   "execution_count": null,
   "id": "ca2f1c45",
   "metadata": {},
   "outputs": [],
   "source": [
    "# numpy 로드하여 np로 사용\n",
    "# pandas 로드하여 pd로 사용\n",
    "# matplotlib.pyplot 로드하여 plt로 사용\n",
    "# seaborn 로드하여 sns로 사용\n",
    "import numpy as np\n",
    "import pandas as pd\n",
    "import matplotlib\n",
    "import matplotlib.pyplot as plt\n",
    "import matplotlib.font_manager as fm\n",
    "import seaborn as sns"
   ]
  },
  {
   "cell_type": "code",
   "execution_count": null,
   "id": "174841f2",
   "metadata": {},
   "outputs": [],
   "source": [
    "import pandas as pd\n",
    "\n",
    "# 상대경로 기준: check.ipynb → code/visualization/ → ../ → ../ → data/\n",
    "df = pd.read_csv(\"../../data/Mcdonalds_data.csv\")\n",
    "\n",
    "# 데이터 확인\n",
    "print(df.head())\n",
    "print(df.columns)"
   ]
  },
  {
   "cell_type": "markdown",
   "id": "cf57efa7",
   "metadata": {},
   "source": [
    "### 스크랩핑을 위한 모듈 다운 및 확인"
   ]
  },
  {
   "cell_type": "code",
   "execution_count": null,
   "id": "fb643f45",
   "metadata": {},
   "outputs": [],
   "source": [
    "%pip show selenium webdriver-manager"
   ]
  },
  {
   "cell_type": "code",
   "execution_count": null,
   "id": "98181c18",
   "metadata": {},
   "outputs": [],
   "source": [
    "%pip show selenium"
   ]
  },
  {
   "cell_type": "markdown",
   "id": "e2ab3290",
   "metadata": {},
   "source": [
    "### Url 별 카테고리, 메뉴, 가격 스크랩핑\n",
    "- 추후 아침메뉴 스크랩 코드 추가 작성 필요"
   ]
  },
  {
   "cell_type": "code",
   "execution_count": null,
   "id": "46cab1f3",
   "metadata": {},
   "outputs": [
    {
     "name": "stdout",
     "output_type": "stream",
     "text": [
      "✅ 저장 완료! 경로: c:\\Users\\user\\Documents\\GitHub\\main\\code\\price_scrap\\main\\data\\Mcdelivery_menu_prices_Kacl.csv\n"
     ]
    }
   ],
   "source": [
    "from selenium import webdriver\n",
    "from selenium.webdriver.common.by import By\n",
    "from selenium.webdriver.chrome.service import Service\n",
    "from selenium.webdriver.chrome.options import Options\n",
    "from webdriver_manager.chrome import ChromeDriverManager\n",
    "import os\n",
    "import time\n",
    "import csv\n",
    "\n",
    "# ✅ 카테고리별 URL\n",
    "category_urls = {\n",
    "    \"버거 & 세트\": \"https://www.mcdelivery.co.kr/kr/browse/menu.html?daypartId=1&catId=11\",\n",
    "    \"스낵 & 사이드\": \"https://www.mcdelivery.co.kr/kr/browse/menu.html?daypartId=1&catId=13\",\n",
    "    \"음료\": \"https://www.mcdelivery.co.kr/kr/browse/menu.html?daypartId=1&catId=14\",\n",
    "    \"디저트\": \"https://www.mcdelivery.co.kr/kr/browse/menu.html?daypartId=1&catId=15\",\n",
    "    \"해피밀\": \"https://www.mcdelivery.co.kr/kr/browse/menu.html?daypartId=1&catId=16\"\n",
    "}\n",
    "\n",
    "# ✅ 셀레니움 설정\n",
    "options = Options()\n",
    "options.add_argument(\"--headless\")\n",
    "options.add_argument(\"--no-sandbox\")\n",
    "options.add_argument(\"--disable-dev-shm-usage\")\n",
    "\n",
    "driver = webdriver.Chrome(service=Service(ChromeDriverManager().install()), options=options)\n",
    "\n",
    "menu_data = []\n",
    "\n",
    "# ✅ 카테고리 순회\n",
    "for category_name, url in category_urls.items():\n",
    "    driver.get(url)\n",
    "    time.sleep(3)\n",
    "\n",
    "    products = driver.find_elements(By.CSS_SELECTOR, \".product-card.product-card--standard\")\n",
    "\n",
    "    for product in products:\n",
    "        try:\n",
    "            name = product.find_element(By.CLASS_NAME, \"product-title\").text.strip()\n",
    "            price = product.find_element(By.CLASS_NAME, \"starting-price\").text.strip().replace(\"₩\", \"\").replace(\",\", \"\")\n",
    "            \n",
    "            # ✅ 칼로리 추출 (없을 경우 예외처리)\n",
    "            try:\n",
    "                kcal = product.find_element(By.CSS_SELECTOR, \".product-nutritional-info .text-default\").text.strip()\n",
    "                kcal = kcal.replace(\"Kcal\", \"\").strip()\n",
    "            except:\n",
    "                kcal = \"\"\n",
    "\n",
    "            menu_data.append((category_name, name, int(price), kcal))\n",
    "        except:\n",
    "            continue\n",
    "\n",
    "driver.quit()\n",
    "\n",
    "# ✅ 저장 경로 설정\n",
    "project_root = os.path.dirname(os.path.dirname(os.path.abspath(__file__)))  # 'code' 폴더 기준 상위로 이동\n",
    "output_dir = os.path.join(project_root, \"data\")  # 루트의 data 디렉토리\n",
    "\n",
    "os.makedirs(output_dir, exist_ok=True)\n",
    "output_file = os.path.join(output_dir, \"Mcdelivery_menu_prices_Kacl.csv\")\n",
    "\n",
    "# ✅ CSV 저장\n",
    "with open(output_file, \"w\", encoding=\"utf-8-sig\", newline=\"\") as f:\n",
    "    writer = csv.writer(f)\n",
    "    writer.writerow([\"카테고리\", \"메뉴\", \"가격\", \"칼로리(Kcal)\"])\n",
    "    writer.writerows(menu_data)\n",
    "\n",
    "print(f\"✅ 저장 완료! 경로: {output_file}\")"
   ]
  }
 ],
 "metadata": {
  "kernelspec": {
   "display_name": "base",
   "language": "python",
   "name": "python3"
  },
  "language_info": {
   "codemirror_mode": {
    "name": "ipython",
    "version": 3
   },
   "file_extension": ".py",
   "mimetype": "text/x-python",
   "name": "python",
   "nbconvert_exporter": "python",
   "pygments_lexer": "ipython3",
   "version": "3.12.7"
  }
 },
 "nbformat": 4,
 "nbformat_minor": 5
}
