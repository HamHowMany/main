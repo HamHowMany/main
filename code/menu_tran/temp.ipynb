{
 "cells": [
  {
   "cell_type": "markdown",
   "id": "ce889129",
   "metadata": {},
   "source": [
    "## 필요한 모듈 import"
   ]
  },
  {
   "cell_type": "code",
   "execution_count": 1,
   "id": "2525edb8",
   "metadata": {},
   "outputs": [],
   "source": [
    "# numpy 로드하여 np로 사용\n",
    "# pandas 로드하여 pd로 사용\n",
    "# matplotlib.pyplot 로드하여 plt로 사용\n",
    "# seaborn 로드하여 sns로 사용\n",
    "import numpy as np\n",
    "import pandas as pd\n",
    "import matplotlib\n",
    "import matplotlib.pyplot as plt\n",
    "import matplotlib.font_manager as fm\n",
    "import seaborn as sns"
   ]
  },
  {
   "cell_type": "code",
   "execution_count": null,
   "id": "62a91ff9",
   "metadata": {},
   "outputs": [],
   "source": [
    "# font name을 알고 있다면 생략가능\n",
    "#한글폰트 path 설정\n",
    "font_path = 'C:\\\\Windows\\\\Fonts\\\\malgun.ttf'\n",
    "#font의 파일정보로 font name 을 알아내기\n",
    "font_prop = fm.FontProperties(fname=font_path).get_name()\n",
    "print(font_prop) # 폰트이름 확인하기"
   ]
  },
  {
   "cell_type": "code",
   "execution_count": 3,
   "id": "39391306",
   "metadata": {},
   "outputs": [],
   "source": [
    "# matplotlib의 rc(run command) 함수를 사용해서 font name(Malgun Gothic) 설정\n",
    "matplotlib.rc('font', family=font_prop)"
   ]
  },
  {
   "cell_type": "markdown",
   "id": "952e6558",
   "metadata": {},
   "source": [
    "### Mcdonalds_data.csv 의 데이터 확인"
   ]
  },
  {
   "cell_type": "code",
   "execution_count": null,
   "id": "142e0fe4",
   "metadata": {},
   "outputs": [],
   "source": [
    "import pandas as pd\n",
    "\n",
    "# 상대경로 기준: check.ipynb → code/visualization/ → ../ → ../ → data/\n",
    "df = pd.read_csv(\"../../data/Mcdonalds_data.csv\")\n",
    "\n",
    "# 데이터 확인\n",
    "print(df.head())\n",
    "print(df.columns)"
   ]
  },
  {
   "cell_type": "markdown",
   "id": "24147529",
   "metadata": {},
   "source": [
    "### 번역을 위한 모듈 import"
   ]
  },
  {
   "cell_type": "code",
   "execution_count": null,
   "id": "db206ead",
   "metadata": {},
   "outputs": [],
   "source": [
    "# 번역을 위한 모듈 설치치\n",
    "# %pip install deepl\n",
    "# %pip install python-dotenv deepl pandas"
   ]
  },
  {
   "cell_type": "code",
   "execution_count": null,
   "id": "9408a2aa",
   "metadata": {},
   "outputs": [],
   "source": [
    "%pip show deepl\n",
    "%pip show python-dotenv deepl pandas"
   ]
  },
  {
   "cell_type": "code",
   "execution_count": null,
   "id": "67c8c283",
   "metadata": {},
   "outputs": [],
   "source": [
    "# Mcdonalds_data.csv에서 item 항목의 영어 메뉴명을 한글로 번역\n",
    "# deepl api를 활용함\n",
    "\n",
    "import deepl\n",
    "import pandas as pd\n",
    "import time\n",
    "from dotenv import load_dotenv\n",
    "import os\n",
    "import sys # sys 모듈 추가\n",
    "\n",
    "# ✅ .env 파일 로드\n",
    "load_dotenv()\n",
    "\n",
    "# ✅ API 키 불러오기\n",
    "auth_key = os.getenv(\"DEEPL_API_KEY\")\n",
    "\n",
    "# --- 디버깅 코드 추가 ---\n",
    "# print(f\"Loaded API Key: {auth_key}\") # 로드된 키 값 확인\n",
    "# if not auth_key:\n",
    "#     print(\"오류: .env 파일에서 DEEPL_API_KEY를 찾을 수 없거나 환경 변수가 설정되지 않았습니다.\")\n",
    "#     sys.exit() # 키가 없으면 프로그램 종료\n",
    "# --- 디버깅 코드 끝 ---\n",
    "\n",
    "try:\n",
    "    translator = deepl.Translator(auth_key)\n",
    "except Exception as e:\n",
    "    print(f\"DeepL Translator 초기화 중 오류 발생: {e}\")\n",
    "    sys.exit() # 초기화 실패 시 종료\n",
    "\n",
    "# ✅ 메뉴 데이터 로드\n",
    "try:\n",
    "    df = pd.read_csv(\"../../data/Mcdonalds_data.csv\")\n",
    "except FileNotFoundError:\n",
    "    print(\"오류: ../../data/Mcdonalds_data.csv 파일을 찾을 수 없습니다. 파일 경로를 확인하세요.\")\n",
    "    sys.exit()\n",
    "\n",
    "menu_items = df[\"Item\"].unique().tolist()\n",
    "\n",
    "# ✅ 번역 결과 저장용 딕셔너리\n",
    "menu_eng_to_kor = {}\n",
    "\n",
    "# ✅ 번역 실행\n",
    "print(\"번역 작업을 시작합니다...\")\n",
    "for i, item in enumerate(menu_items):\n",
    "    # 빈 문자열이나 공백만 있는 항목은 건너뛰기\n",
    "    if not item or item.strip() == \"\":\n",
    "        print(f\"[{i+1}/{len(menu_items)}] 건너뜀 (빈 항목): '{item}'\")\n",
    "        menu_eng_to_kor[item] = \"\" # 빈 값으로 저장하거나 다른 방식으로 처리\n",
    "        continue\n",
    "\n",
    "    try:\n",
    "        result = translator.translate_text(item, source_lang=\"EN\", target_lang=\"KO\")\n",
    "        menu_eng_to_kor[item] = result.text\n",
    "        print(f\"[{i+1}/{len(menu_items)}] {item} → {result.text}\")\n",
    "        time.sleep(0.5)  # API 호출 속도 제한 준수\n",
    "    except deepl.exceptions.AuthorizationException as e:\n",
    "        print(f\"[인증 오류] {item} → {e}. API 키가 유효한지, 계정 상태를 확인하세요.\")\n",
    "        menu_eng_to_kor[item] = item # 에러 시 원본 저장\n",
    "        # 인증 오류 발생 시 반복 중단 (선택 사항)\n",
    "        # print(\"치명적인 인증 오류로 번역을 중단합니다.\")\n",
    "        # break\n",
    "    except deepl.exceptions.QuotaExceededException as e:\n",
    "         print(f\"[쿼터 초과] {item} → {e}. DeepL API 사용량 한도를 초과했습니다.\")\n",
    "         menu_eng_to_kor[item] = item\n",
    "         # 쿼터 초과 시 반복 중단\n",
    "         print(\"API 사용량 한도 초과로 번역을 중단합니다.\")\n",
    "         break\n",
    "    except Exception as e:\n",
    "        print(f\"[일반 오류] {item} → {e}\")\n",
    "        menu_eng_to_kor[item] = item  # 에러 시 원본 저장\n",
    "\n",
    "# ✅ 결과 저장\n",
    "if menu_eng_to_kor: # 번역 결과가 있을 경우에만 저장\n",
    "    translated_df = pd.DataFrame(list(menu_eng_to_kor.items()), columns=[\"English Name\", \"Korean Translation\"])\n",
    "    try:\n",
    "        translated_df.to_csv(\"translated_menu_deepl.csv\", index=False, encoding='utf-8-sig') # UTF-8 BOM 인코딩 명시\n",
    "        print(\"✅ DeepL 번역 완료! translated_menu_deepl.csv 저장됨.\")\n",
    "    except Exception as e:\n",
    "        print(f\"CSV 파일 저장 중 오류 발생: {e}\")\n",
    "else:\n",
    "    print(\"번역된 항목이 없어 CSV 파일을 저장하지 않습니다.\")"
   ]
  }
 ],
 "metadata": {
  "kernelspec": {
   "display_name": "base",
   "language": "python",
   "name": "python3"
  },
  "language_info": {
   "codemirror_mode": {
    "name": "ipython",
    "version": 3
   },
   "file_extension": ".py",
   "mimetype": "text/x-python",
   "name": "python",
   "nbconvert_exporter": "python",
   "pygments_lexer": "ipython3",
   "version": "3.12.7"
  }
 },
 "nbformat": 4,
 "nbformat_minor": 5
}
