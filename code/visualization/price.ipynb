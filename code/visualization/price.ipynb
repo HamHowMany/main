{
 "cells": [
  {
   "cell_type": "code",
   "execution_count": 2,
   "id": "70e93cee",
   "metadata": {},
   "outputs": [
    {
     "name": "stdout",
     "output_type": "stream",
     "text": [
      "Note: you may need to restart the kernel to use updated packages.\n"
     ]
    },
    {
     "name": "stderr",
     "output_type": "stream",
     "text": [
      "\n",
      "Usage:   \n",
      "  c:\\Users\\user\\anaconda3\\python.exe -m pip show [options] <package> ...\n",
      "\n",
      "no such option: -p\n"
     ]
    }
   ],
   "source": [
    "%pip show -p selenium pandas webdriver_manager\n"
   ]
  },
  {
   "cell_type": "code",
   "execution_count": null,
   "id": "394e5bb6",
   "metadata": {},
   "outputs": [],
   "source": [
    "from selenium import webdriver\n",
    "from selenium.webdriver.chrome.service import Service\n",
    "from selenium.webdriver.common.by import By\n",
    "from webdriver_manager.chrome import ChromeDriverManager\n",
    "import pandas as pd\n",
    "import time\n",
    "\n",
    "# 1. 드라이버 세팅\n",
    "options = webdriver.ChromeOptions()\n",
    "options.add_argument('--headless')  # 브라우저 창 안 띄움\n",
    "options.add_argument('--no-sandbox')\n",
    "options.add_argument('--disable-dev-shm-usage')\n",
    "driver = webdriver.Chrome(service=Service(ChromeDriverManager().install()), options=options)\n",
    "\n",
    "# 2. 맥도날드 딜리버리 페이지 접속 (버거/세트 카테고리)\n",
    "url = \"https://www.mcdelivery.co.kr/kr/browse/menu.html?daypartId=1&catId=11\"\n",
    "driver.get(url)\n",
    "time.sleep(3)  # 페이지 로딩 대기\n",
    "\n",
    "# 3. 정보 추출\n",
    "names, prices, calories = [], [], []\n",
    "\n",
    "products = driver.find_elements(By.CLASS_NAME, \"product-card\")\n",
    "for product in products:\n",
    "    try:\n",
    "        name = product.find_element(By.CLASS_NAME, \"product-title\").text.strip()\n",
    "        price = product.find_element(By.CLASS_NAME, \"starting-price\").text.strip().replace(\"₩\", \"\").replace(\",\", \"\")\n",
    "        cal_area = product.find_elements(By.CLASS_NAME, \"text-default\")\n",
    "        cal = None\n",
    "        for c in cal_area:\n",
    "            if 'kcal' in c.text.lower():\n",
    "                cal = c.text.lower().replace(\"kcal\", \"\").strip()\n",
    "                break\n",
    "\n",
    "        names.append(name)\n",
    "        prices.append(int(price))\n",
    "        calories.append(float(cal) if cal else None)\n",
    "    except Exception as e:\n",
    "        print(f\"오류 발생: {e}\")\n",
    "        continue\n",
    "\n",
    "driver.quit()\n",
    "\n",
    "# 4. 데이터프레임 저장\n",
    "df = pd.DataFrame({\n",
    "    'name': names,\n",
    "    'price': prices,\n",
    "    'calorie': calories\n",
    "})\n",
    "\n",
    "df.to_csv('mcd_menu.csv', index=False, encoding='utf-8-sig')\n",
    "print(\"스크래핑 완료! 'mcd_menu.csv'로 저장됨.\")\n"
   ]
  },
  {
   "cell_type": "code",
   "execution_count": 3,
   "id": "d10c33fa",
   "metadata": {},
   "outputs": [
    {
     "name": "stdout",
     "output_type": "stream",
     "text": [
      "✅ 스크래핑 완료! 'mcd_menu.csv' 파일로 저장되었습니다.\n"
     ]
    }
   ],
   "source": [
    "from selenium import webdriver\n",
    "from selenium.webdriver.chrome.service import Service\n",
    "from selenium.webdriver.common.by import By\n",
    "from webdriver_manager.chrome import ChromeDriverManager\n",
    "import pandas as pd\n",
    "import time\n",
    "\n",
    "# 1. 셀레니움 드라이버 설정\n",
    "options = webdriver.ChromeOptions()\n",
    "options.add_argument('--headless')  # 창 안 띄우고 실행\n",
    "options.add_argument('--no-sandbox')\n",
    "options.add_argument('--disable-dev-shm-usage')\n",
    "\n",
    "driver = webdriver.Chrome(service=Service(ChromeDriverManager().install()), options=options)\n",
    "\n",
    "# 2. 맥도날드 딜리버리 메뉴 페이지 접속 (버거&세트)\n",
    "url = \"https://www.mcdelivery.co.kr/kr/browse/menu.html?daypartId=1&catId=11\"\n",
    "driver.get(url)\n",
    "time.sleep(3)  # 로딩 대기\n",
    "\n",
    "# 3. 데이터 수집\n",
    "names, prices, calories = [], [], []\n",
    "\n",
    "products = driver.find_elements(By.CLASS_NAME, \"product-card\")\n",
    "for product in products:\n",
    "    try:\n",
    "        name = product.find_element(By.CLASS_NAME, \"product-title\").text.strip()\n",
    "        price_raw = product.find_element(By.CLASS_NAME, \"starting-price\").text.strip()\n",
    "        price = int(price_raw.replace(\"₩\", \"\").replace(\",\", \"\"))\n",
    "        \n",
    "        # 칼로리 찾기\n",
    "        cal = None\n",
    "        cal_spans = product.find_elements(By.CLASS_NAME, \"text-default\")\n",
    "        for span in cal_spans:\n",
    "            if \"kcal\" in span.text.lower():\n",
    "                cal = float(span.text.lower().replace(\"kcal\", \"\").strip())\n",
    "                break\n",
    "\n",
    "        names.append(name)\n",
    "        prices.append(price)\n",
    "        calories.append(cal)\n",
    "    except Exception as e:\n",
    "        print(f\"❌ 오류 발생: {e}\")\n",
    "        continue\n",
    "\n",
    "# 4. DataFrame으로 변환 후 저장\n",
    "df = pd.DataFrame({\n",
    "    'name': names,\n",
    "    'price': prices,\n",
    "    'calorie': calories\n",
    "})\n",
    "\n",
    "# 5. CSV 파일로 저장\n",
    "df.to_csv(\"mcd_menu.csv\", index=False, encoding='utf-8-sig')\n",
    "print(\"✅ 스크래핑 완료! 'mcd_menu.csv' 파일로 저장되었습니다.\")\n",
    "\n",
    "# 드라이버 종료\n",
    "driver.quit()\n"
   ]
  }
 ],
 "metadata": {
  "kernelspec": {
   "display_name": "base",
   "language": "python",
   "name": "python3"
  },
  "language_info": {
   "codemirror_mode": {
    "name": "ipython",
    "version": 3
   },
   "file_extension": ".py",
   "mimetype": "text/x-python",
   "name": "python",
   "nbconvert_exporter": "python",
   "pygments_lexer": "ipython3",
   "version": "3.12.7"
  }
 },
 "nbformat": 4,
 "nbformat_minor": 5
}
