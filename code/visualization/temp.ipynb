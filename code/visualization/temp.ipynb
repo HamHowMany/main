{
 "cells": [
  {
   "cell_type": "code",
   "execution_count": 1,
   "id": "bf04fb0a",
   "metadata": {},
   "outputs": [],
   "source": [
    "# numpy 로드하여 np로 사용\n",
    "# pandas 로드하여 pd로 사용\n",
    "# matplotlib.pyplot 로드하여 plt로 사용\n",
    "# seaborn 로드하여 sns로 사용\n",
    "import numpy as np\n",
    "import pandas as pd\n",
    "\n",
    "import matplotlib\n",
    "import matplotlib.pyplot as plt\n",
    "import matplotlib.font_manager as fm\n",
    "import seaborn as sns"
   ]
  },
  {
   "cell_type": "code",
   "execution_count": 3,
   "id": "a79b70f5",
   "metadata": {},
   "outputs": [
    {
     "name": "stdout",
     "output_type": "stream",
     "text": [
      "Malgun Gothic\n"
     ]
    }
   ],
   "source": [
    "# font name을 알고 있다면 생략가능\n",
    "#한글폰트 path 설정\n",
    "font_path = 'C:\\\\Windows\\\\Fonts\\\\malgun.ttf'\n",
    "#font의 파일정보로 font name 을 알아내기\n",
    "font_prop = fm.FontProperties(fname=font_path).get_name()\n",
    "print(font_prop) # 폰트이름 확인하기"
   ]
  },
  {
   "cell_type": "code",
   "execution_count": 8,
   "id": "fc46d1af",
   "metadata": {},
   "outputs": [],
   "source": [
    "# matplotlib의 rc(run command) 함수를 사용해서 font name(Malgun Gothic) 설정\n",
    "matplotlib.rc('font', family=font_prop)"
   ]
  },
  {
   "cell_type": "markdown",
   "id": "4caed41e",
   "metadata": {},
   "source": [
    "### Mcdonalds_data.csv 의 데이터 확인"
   ]
  },
  {
   "cell_type": "code",
   "execution_count": null,
   "id": "4bb9c651",
   "metadata": {},
   "outputs": [],
   "source": [
    "import pandas as pd\n",
    "\n",
    "# 상대경로 기준: check.ipynb → code/visualization/ → ../ → ../ → data/\n",
    "df = pd.read_csv(\"../../data/Mcdonalds_data.csv\")\n",
    "\n",
    "# 데이터 확인\n",
    "print(df.head())\n",
    "print(df.columns)"
   ]
  },
  {
   "cell_type": "markdown",
   "id": "a577667d",
   "metadata": {},
   "source": [
    "### DataFrame 추출 코드\n",
    "* 카테고리\n",
    "* 아이템명\n",
    "* 사이즈 (g 단위만)\n",
    "* 칼로리\n",
    "* 탄수화물\n",
    "* 지방\n",
    "* 단백질\n",
    "* 데일리 탄수화물\n",
    "* 데일리 지방\n",
    "* 데일리 단백질\n",
    "* 당류\n",
    "* 나트륨\n",
    "* 데일리 나트륨\n",
    "* 식이섬유\n",
    "* 데일리 식이섬유"
   ]
  },
  {
   "cell_type": "code",
   "execution_count": null,
   "id": "ec619aca",
   "metadata": {},
   "outputs": [],
   "source": [
    "import pandas as pd\n",
    "import re\n",
    "\n",
    "# 데이터 로드\n",
    "# df = pd.read_csv(\"../../data/Mcdonalds_data.csv\")\n",
    "\n",
    "# Serving Size에서 g값 추출 (있으면 정수, 없으면 원래 텍스트)\n",
    "def parse_size(text):\n",
    "    match = re.search(r\"\\((\\d+)\\s*g\\)\", text)\n",
    "    if match:\n",
    "        return int(match.group(1))  # 숫자만 정수로 반환\n",
    "    else:\n",
    "        return text.strip()         # g 없으면 원래 값 그대로 반환\n",
    "\n",
    "# 새 컬럼 생성\n",
    "df[\"Size (g)\"] = df[\"Serving Size\"].apply(parse_size)\n",
    "\n",
    "# 최종 사용할 컬럼 목록\n",
    "selected_columns = [\n",
    "    \"Category\",\n",
    "    \"Item\",\n",
    "    \"Size (g)\",\n",
    "    \"Calories\",\n",
    "    \"Carbohydrates\",\n",
    "    \"Total Fat\",\n",
    "    \"Protein\",\n",
    "    \"Carbohydrates (% Daily Value)\",\n",
    "    \"Total Fat (% Daily Value)\",\n",
    "    \"Sugars\",\n",
    "    \"Sodium\",\n",
    "    \"Sodium (% Daily Value)\",\n",
    "    \"Dietary Fiber\",\n",
    "    \"Dietary Fiber (% Daily Value)\"\n",
    "]\n",
    "\n",
    "# 필요한 컬럼만 추출\n",
    "df_final = df[selected_columns].reset_index(drop=True)\n",
    "\n",
    "# 확인\n",
    "# print(df_final.head())\n",
    "\n",
    "df_final.tail(20)"
   ]
  },
  {
   "cell_type": "code",
   "execution_count": null,
   "id": "26834856",
   "metadata": {},
   "outputs": [],
   "source": [
    "# 한글폰트 테스트용 코드\n",
    "plt.pie([30, 40, 30], labels=[\"탄수화물\", \"지방\", \"단백질\"], autopct='%1.1f%%')\n",
    "plt.title(\"Big Mac의 영양성분 구성\")\n",
    "plt.show()"
   ]
  },
  {
   "cell_type": "markdown",
   "id": "e0e41ecb",
   "metadata": {},
   "source": [
    "## 특정 메뉴를 입력하여 barplot을 통해 시각화\n",
    "- 추후 유저저가 streamlit에서 메뉴를 선택하면 시각화된 이미지가 출력되어야 함\n",
    "- 유저가 메뉴명을 한글로 선택하면 해당 메뉴를 영어로 데이터에 입력하게 하여야함\n",
    "- 한글 <> 영어 메뉴명 매핑 딕셔너리를 통해 처리할 예정"
   ]
  },
  {
   "cell_type": "code",
   "execution_count": null,
   "id": "d92a9aa5",
   "metadata": {},
   "outputs": [],
   "source": [
    "import matplotlib.pyplot as plt\n",
    "import matplotlib\n",
    "import matplotlib.font_manager as fm\n",
    "import seaborn as sns\n",
    "\n",
    "# ✅ 한글 폰트 설정\n",
    "font_path = 'C:\\\\Windows\\\\Fonts\\\\malgun.ttf'\n",
    "font_name = fm.FontProperties(fname=font_path).get_name()\n",
    "matplotlib.rc('font', family=font_name)\n",
    "matplotlib.rcParams['axes.unicode_minus'] = False\n",
    "\n",
    "# ✅ 사용자 선택 메뉴\n",
    "selected_item = \"Big Mac\"\n",
    "\n",
    "# ✅ 해당 메뉴 데이터 추출\n",
    "menu_data = df_final[df_final[\"Item\"] == selected_item].iloc[0]\n",
    "\n",
    "# ✅ 시각화 항목 정의\n",
    "labels = [\"탄수화물\", \"지방\", \"단백질\", \"당류\", \"나트륨\", \"식이섬유\"]\n",
    "values = [\n",
    "    menu_data[\"Carbohydrates\"],\n",
    "    menu_data[\"Total Fat\"],\n",
    "    menu_data[\"Protein\"],\n",
    "    menu_data[\"Sugars\"],\n",
    "    menu_data[\"Sodium\"] / 1000,  # mg → g 환산\n",
    "    menu_data[\"Dietary Fiber\"]\n",
    "]\n",
    "\n",
    "# ✅ 데이터프레임으로 변환 (시각화에 적합하게)\n",
    "plot_df = pd.DataFrame({\n",
    "    \"영양소\": labels,\n",
    "    \"함량 (g 기준)\": values\n",
    "})\n",
    "\n",
    "# ✅ 시각화: 세로 barplot\n",
    "plt.figure(figsize=(8, 5))\n",
    "sns.barplot(data=plot_df, x=\"영양소\", y=\"함량 (g 기준)\", palette=\"pastel\")\n",
    "\n",
    "# ✅ 제목 설정\n",
    "plt.title(f\"{selected_item}의 주요 영양성분 비교 (단위: g)\", fontsize=14, weight='bold')\n",
    "plt.xlabel(\"\")\n",
    "plt.ylabel(\"함량 (g 기준)\")\n",
    "plt.tight_layout()\n",
    "plt.show()\n"
   ]
  }
 ],
 "metadata": {
  "kernelspec": {
   "display_name": "base",
   "language": "python",
   "name": "python3"
  },
  "language_info": {
   "codemirror_mode": {
    "name": "ipython",
    "version": 3
   },
   "file_extension": ".py",
   "mimetype": "text/x-python",
   "name": "python",
   "nbconvert_exporter": "python",
   "pygments_lexer": "ipython3",
   "version": "3.12.7"
  }
 },
 "nbformat": 4,
 "nbformat_minor": 5
}
