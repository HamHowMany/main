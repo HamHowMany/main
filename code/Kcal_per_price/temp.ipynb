{
 "cells": [
  {
   "cell_type": "code",
   "execution_count": 1,
   "id": "b0be28bd",
   "metadata": {},
   "outputs": [],
   "source": [
    "# numpy 로드하여 np로 사용\n",
    "# pandas 로드하여 pd로 사용\n",
    "# matplotlib.pyplot 로드하여 plt로 사용\n",
    "# seaborn 로드하여 sns로 사용\n",
    "import numpy as np\n",
    "import pandas as pd\n",
    "import matplotlib\n",
    "import matplotlib.pyplot as plt\n",
    "import matplotlib.font_manager as fm\n",
    "import seaborn as sns"
   ]
  },
  {
   "cell_type": "code",
   "execution_count": 15,
   "id": "dfa47275",
   "metadata": {},
   "outputs": [
    {
     "name": "stdout",
     "output_type": "stream",
     "text": [
      "      카테고리                메뉴     가격  칼로리(Kcal)\n",
      "0  버거 & 세트        더블 1955 버거  10300        807\n",
      "1  버거 & 세트   더블 맥스파이시 상하이 버거   9700        759\n",
      "2  버거 & 세트  맥스파이시 상하이 투움바 버거   8100        489\n",
      "3  버거 & 세트       더블 쿼터파운더 치즈   8200        770\n",
      "4  버거 & 세트          쿼터파운더 치즈   6300        536\n",
      "Index(['카테고리', '메뉴', '가격', '칼로리(Kcal)'], dtype='object')\n"
     ]
    }
   ],
   "source": [
    "import pandas as pd\n",
    "\n",
    "# 상대경로 기준: check.ipynb → code/visualization/ → ../ → ../ → data/\n",
    "df = pd.read_csv(\"../../data/Mcdelivery_menu_prices_Kacl.csv\")\n",
    "\n",
    "# 데이터 확인\n",
    "print(df.head())\n",
    "print(df.columns)"
   ]
  },
  {
   "cell_type": "code",
   "execution_count": 23,
   "id": "6bec3c05",
   "metadata": {},
   "outputs": [
    {
     "name": "stdout",
     "output_type": "stream",
     "text": [
      "🔍 '더블 맥스파이시 상하이 버거' 칼로리당 가격: 12.78 원/kcal\n",
      "🏆 가장 가성비 좋은 메뉴 (버거 & 세트): 맥치킨 모짜렐라\n",
      "   가격: 5800원 / 칼로리: 743 kcal\n",
      "   칼로리당 가격: 7.81 원/kcal\n"
     ]
    }
   ],
   "source": [
    "import pandas as pd\n",
    "\n",
    "# ✅ 데이터 불러오기\n",
    "df = pd.read_csv(\"../../data/Mcdelivery_menu_prices_Kacl.csv\")\n",
    "\n",
    "# ✅ 데이터 전처리\n",
    "df['가격'] = df['가격'].astype(str).str.replace(\",\", \"\").astype(int)\n",
    "df['칼로리(Kcal)'] = df['칼로리(Kcal)'].astype(str).str.replace(r\"[^\\d.]\", \"\", regex=True)\n",
    "df['칼로리(Kcal)'] = pd.to_numeric(df['칼로리(Kcal)'], errors='coerce')\n",
    "\n",
    "# ✅ NaN 제거\n",
    "df = df.dropna(subset=['칼로리(Kcal)'])\n",
    "\n",
    "# ✅ cost_per_cal 계산\n",
    "df['cost_per_cal'] = df['가격'] / df['칼로리(Kcal)']\n",
    "\n",
    "# ✅ \"버거 & 세트\" 카테고리만 필터링\n",
    "burger_df = df[df['카테고리'] == \"버거 & 세트\"].copy()\n",
    "\n",
    "# ✅ 가장 가성비 좋은 메뉴 찾기\n",
    "best_idx = burger_df['cost_per_cal'].idxmin()\n",
    "best = burger_df.loc[best_idx]\n",
    "\n",
    "# ✅ 특정 메뉴와 비교 예시 (예: 빅맥)\n",
    "selected_name = \"더블 맥스파이시\"\n",
    "target = burger_df[burger_df['메뉴'].str.contains(selected_name, na=False)]\n",
    "\n",
    "if not target.empty:\n",
    "    t = target.iloc[0]\n",
    "    print(f\"🔍 '{t['메뉴']}' 칼로리당 가격: {t['cost_per_cal']:.2f} 원/kcal\")\n",
    "else:\n",
    "    print(f\"⚠️ '{selected_name}' 메뉴는 버거 & 세트에서 찾을 수 없습니다.\")\n",
    "\n",
    "# ✅ 가성비 1등 메뉴 출력\n",
    "print(f\"🏆 가장 가성비 좋은 메뉴 (버거 & 세트): {best['메뉴']}\")\n",
    "print(f\"   가격: {best['가격']}원 / 칼로리: {best['칼로리(Kcal)']} kcal\")\n",
    "print(f\"   칼로리당 가격: {best['cost_per_cal']:.2f} 원/kcal\")"
   ]
  },
  {
   "cell_type": "code",
   "execution_count": 26,
   "id": "403a3965",
   "metadata": {},
   "outputs": [
    {
     "name": "stdout",
     "output_type": "stream",
     "text": [
      "🍔 선택한 메뉴: 더블 맥스파이시 상하이 버거 / 칼로리: 759 kcal\n",
      "🚶 1분 걷기로 약 4.08 kcal 소모\n",
      "🔥 '더블 맥스파이시 상하이 버거' 섭취 칼로리를 모두 소모하려면 약 185.9분 걷기 필요!\n"
     ]
    }
   ],
   "source": [
    "import pandas as pd\n",
    "import requests\n",
    "import os\n",
    "from dotenv import load_dotenv\n",
    "\n",
    "# 🔐 .env에서 Nutritionix API Key 불러오기\n",
    "load_dotenv()\n",
    "APP_ID = os.getenv(\"NUTRITIONIX_APP_ID\")\n",
    "APP_KEY = os.getenv(\"NUTRITIONIX_APP_KEY\")\n",
    "\n",
    "# ✅ 사용자 정보\n",
    "USER_PROFILE = {\n",
    "    \"gender\": \"male\",\n",
    "    \"weight_kg\": 70,\n",
    "    \"height_cm\": 175,\n",
    "    \"age\": 25\n",
    "}\n",
    "\n",
    "# ✅ 데이터 불러오기\n",
    "df = pd.read_csv(\"../../data/Mcdelivery_menu_prices_Kacl.csv\")\n",
    "\n",
    "# ✅ 전처리\n",
    "df['가격'] = df['가격'].astype(str).str.replace(\",\", \"\").astype(int)\n",
    "df['칼로리(Kcal)'] = df['칼로리(Kcal)'].astype(str).str.replace(r\"[^\\d.]\", \"\", regex=True)\n",
    "df['칼로리(Kcal)'] = pd.to_numeric(df['칼로리(Kcal)'], errors='coerce')\n",
    "df = df.dropna(subset=['칼로리(Kcal)'])\n",
    "\n",
    "df['cost_per_cal'] = df['가격'] / df['칼로리(Kcal)']\n",
    "burger_df = df[df['카테고리'] == \"버거 & 세트\"].copy()\n",
    "\n",
    "# ✅ 사용자 선택 메뉴\n",
    "selected_name = \"더블 맥스파이시\"\n",
    "target = burger_df[burger_df['메뉴'].str.contains(selected_name, na=False)]\n",
    "\n",
    "if not target.empty:\n",
    "    t = target.iloc[0]\n",
    "    menu_name = t['메뉴']\n",
    "    kcal = t['칼로리(Kcal)']\n",
    "    print(f\"🍔 선택한 메뉴: {menu_name} / 칼로리: {kcal:.0f} kcal\")\n",
    "\n",
    "    # ✅ 걷기 30분 기준 칼로리 소모량 요청\n",
    "    query = {\n",
    "        \"query\": \"walking 30 minutes\",  # ← 영어로!\n",
    "        **USER_PROFILE\n",
    "    }\n",
    "\n",
    "    headers = {\n",
    "        \"x-app-id\": APP_ID,\n",
    "        \"x-app-key\": APP_KEY,\n",
    "        \"Content-Type\": \"application/json\"\n",
    "    }\n",
    "\n",
    "    url = \"https://trackapi.nutritionix.com/v2/natural/exercise\"\n",
    "    response = requests.post(url, json=query, headers=headers)\n",
    "\n",
    "    if response.status_code == 200:\n",
    "        data = response.json()\n",
    "        walking = data['exercises'][0]\n",
    "        burn_per_min = walking['nf_calories'] / walking['duration_min']\n",
    "        required_time = kcal / burn_per_min\n",
    "\n",
    "        print(f\"🚶 1분 걷기로 약 {burn_per_min:.2f} kcal 소모\")\n",
    "        print(f\"🔥 '{menu_name}' 섭취 칼로리를 모두 소모하려면 약 {required_time:.1f}분 걷기 필요!\")\n",
    "    else:\n",
    "        print(\"❌ 운동 칼로리 계산 실패:\", response.status_code)\n",
    "        print(response.text)\n",
    "else:\n",
    "    print(f\"⚠️ '{selected_name}' 메뉴는 '버거 & 세트'에서 찾을 수 없습니다.\")\n"
   ]
  }
 ],
 "metadata": {
  "kernelspec": {
   "display_name": "base",
   "language": "python",
   "name": "python3"
  },
  "language_info": {
   "codemirror_mode": {
    "name": "ipython",
    "version": 3
   },
   "file_extension": ".py",
   "mimetype": "text/x-python",
   "name": "python",
   "nbconvert_exporter": "python",
   "pygments_lexer": "ipython3",
   "version": "3.12.7"
  }
 },
 "nbformat": 4,
 "nbformat_minor": 5
}
