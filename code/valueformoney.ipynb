{
 "cells": [
  {
   "cell_type": "code",
   "execution_count": 1,
   "id": "a1cbe60b",
   "metadata": {},
   "outputs": [],
   "source": [
    "import pandas as pd\n",
    "\n",
    "# 1. CSV 불러오기\n",
    "df = pd.read_csv(\"../data/Mcdelivery_menu_prices_Kacl.csv\")\n",
    "\n",
    "# 2. 컬럼 이름 정리 (혹시 공백이 있으면)\n",
    "df.columns = df.columns.str.strip()\n"
   ]
  },
  {
   "cell_type": "code",
   "execution_count": 2,
   "id": "4906b48e",
   "metadata": {},
   "outputs": [
    {
     "name": "stdout",
     "output_type": "stream",
     "text": [
      "카테고리         object\n",
      "메뉴           object\n",
      "가격            int64\n",
      "칼로리(Kcal)    object\n",
      "dtype: object\n"
     ]
    }
   ],
   "source": [
    "print(df.dtypes)"
   ]
  },
  {
   "cell_type": "code",
   "execution_count": 6,
   "id": "55388d84",
   "metadata": {},
   "outputs": [
    {
     "name": "stdout",
     "output_type": "stream",
     "text": [
      "['카테고리', '메뉴', '가격', '칼로리(Kcal)']\n"
     ]
    }
   ],
   "source": [
    "print(df.columns.tolist())"
   ]
  },
  {
   "cell_type": "code",
   "execution_count": null,
   "id": "f5bf6b1b",
   "metadata": {},
   "outputs": [
    {
     "name": "stdout",
     "output_type": "stream",
     "text": [
      "             메뉴    가격  칼로리(Kcal)    칼로리당_가격\n",
      "12     맥치킨 모짜렐라  5800        743   7.806191\n",
      "13          맥치킨  4300        523   8.221797\n",
      "14    더블 불고기 버거  5300        635   8.346457\n",
      "10     트리플 치즈버거  6700        640  10.468750\n",
      "3   더블 쿼터파운더 치즈  8200        770  10.649351\n"
     ]
    }
   ],
   "source": [
    "# 1. '버거' 카테고리만 필터링\n",
    "burger_df = df[df['카테고리'].str.contains('버거')].copy()\n",
    "\n",
    "# 2. 칼로리 문자열이면 숫자로 변환\n",
    "burger_df['칼로리(Kcal)'] = pd.to_numeric(burger_df['칼로리(Kcal)'], errors='coerce')\n",
    "\n",
    "# 3. 가성비 계산\n",
    "burger_df['칼로리당_가격'] = burger_df['가격'] / burger_df['칼로리(Kcal)']\n",
    "\n",
    "# 4. 정렬 및 출력x\n",
    "burger_df_sorted = burger_df.sort_values('칼로리당_가격')\n",
    "print(burger_df_sorted[['메뉴', '가격', '칼로리(Kcal)', '칼로리당_가격']].head())\n",
    "\n",
    "\n"
   ]
  },
  {
   "cell_type": "code",
   "execution_count": 15,
   "id": "edb445d8",
   "metadata": {},
   "outputs": [
    {
     "name": "stdout",
     "output_type": "stream",
     "text": [
      "🔍 '더블 불고기 버거' 칼로리당 가격: 8.35 원/kcal\n",
      "   👉 가성비 순위: 15위 / 총 22개 메뉴 중\n",
      "\n",
      "🏆 가장 가성비 좋은 메뉴 (버거 & 세트):\n",
      "   메뉴: 맥치킨 모짜렐라\n",
      "   가격: 5800원 / 칼로리: 743 kcal\n",
      "   칼로리당 가격: 7.81 원/kcal\n"
     ]
    }
   ],
   "source": [
    "# 🎯 사용자 입력 버거 찾기\n",
    "selected_name = \"더블\"  # 예: 사용자가 입력한 키워드\n",
    "target = burger_df_sorted[burger_df_sorted['메뉴'].str.contains(selected_name, na=False)]\n",
    "\n",
    "# 📢 결과 출력\n",
    "if not target.empty:\n",
    "    t = target.iloc[0]\n",
    "    print(f\"🔍 '{t['메뉴']}' 칼로리당 가격: {t['칼로리당_가격']:.2f} 원/kcal\")\n",
    "    rank = burger_df_sorted[burger_df_sorted['메뉴'] == t['메뉴']].index[0] + 1\n",
    "    print(f\"   👉 가성비 순위: {rank}위 / 총 {len(burger_df_sorted)}개 메뉴 중\")\n",
    "else:\n",
    "    print(f\"⚠️ '{selected_name}' 메뉴는 버거 & 세트에서 찾을 수 없습니다.\")\n",
    "\n",
    "# 🏆 가성비 1등 메뉴\n",
    "best = burger_df_sorted.iloc[0]\n",
    "print(\"\\n🏆 가장 가성비 좋은 메뉴 (버거 & 세트):\")\n",
    "print(f\"   메뉴: {best['메뉴']}\")\n",
    "print(f\"   가격: {best['가격']}원 / 칼로리: {best['칼로리(Kcal)']} kcal\")\n",
    "print(f\"   칼로리당 가격: {best['칼로리당_가격']:.2f} 원/kcal\")"
   ]
  },
  {
   "cell_type": "code",
   "execution_count": null,
   "id": "30717831",
   "metadata": {},
   "outputs": [],
   "source": []
  },
  {
   "cell_type": "code",
   "execution_count": null,
   "id": "2ef9217e",
   "metadata": {},
   "outputs": [],
   "source": []
  }
 ],
 "metadata": {
  "kernelspec": {
   "display_name": "base",
   "language": "python",
   "name": "python3"
  },
  "language_info": {
   "codemirror_mode": {
    "name": "ipython",
    "version": 3
   },
   "file_extension": ".py",
   "mimetype": "text/x-python",
   "name": "python",
   "nbconvert_exporter": "python",
   "pygments_lexer": "ipython3",
   "version": "3.12.7"
  }
 },
 "nbformat": 4,
 "nbformat_minor": 5
}
